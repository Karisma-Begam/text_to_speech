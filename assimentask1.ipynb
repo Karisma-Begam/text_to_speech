{
 "cells": [
  {
   "cell_type": "code",
   "execution_count": 1,
   "id": "7806d74d",
   "metadata": {},
   "outputs": [],
   "source": [
    "import pyttsx3\n"
   ]
  },
  {
   "cell_type": "code",
   "execution_count": 2,
   "id": "4a953466",
   "metadata": {},
   "outputs": [],
   "source": [
    "def text_to_speech(text):\n",
    "    engine = pyttsx3.init()\n",
    "    engine.setProperty('rate', 150)  # Adjust the speech rate (default is 200)\n",
    "    engine.setProperty('volume', 0.8)  # Adjust the volume (default is 1.0)\n",
    "    engine.say(text)\n",
    "    engine.runAndWait()\n",
    "\n",
    "# Example usage\n",
    "input_text = \" AI is a mow days very famous. It is the future of world?\"\n",
    "text_to_speech(input_text)"
   ]
  },
  {
   "cell_type": "markdown",
   "id": "6cad39ab",
   "metadata": {},
   "source": [
    "###### Create a voice cloning model that can generate a synthetic voice that sounds like a specific person. The model should be able to generate speech from text input, and it should be able to reproduce the unique vocalcharacteristics of the target speaker."
   ]
  },
  {
   "cell_type": "code",
   "execution_count": 3,
   "id": "4bab1bf3",
   "metadata": {},
   "outputs": [],
   "source": [
    "import nltk"
   ]
  },
  {
   "cell_type": "code",
   "execution_count": 4,
   "id": "5906ab17",
   "metadata": {},
   "outputs": [],
   "source": [
    "import nltk.corpus"
   ]
  },
  {
   "cell_type": "code",
   "execution_count": 5,
   "id": "90fcaf58",
   "metadata": {},
   "outputs": [],
   "source": [
    "import tokenize"
   ]
  },
  {
   "cell_type": "code",
   "execution_count": 6,
   "id": "02a98188",
   "metadata": {},
   "outputs": [],
   "source": [
    "from nltk.tokenize import word_tokenize"
   ]
  },
  {
   "cell_type": "code",
   "execution_count": 7,
   "id": "f76a5f34",
   "metadata": {},
   "outputs": [],
   "source": [
    "chess = \"Samay Raina is the best chessstreamer in the world\""
   ]
  },
  {
   "cell_type": "code",
   "execution_count": 8,
   "id": "d01d621a",
   "metadata": {},
   "outputs": [
    {
     "data": {
      "text/plain": [
       "['Samay', 'Raina', 'is', 'the', 'best', 'chessstreamer', 'in', 'the', 'world']"
      ]
     },
     "execution_count": 8,
     "metadata": {},
     "output_type": "execute_result"
    }
   ],
   "source": [
    "word_tokenize(chess)"
   ]
  },
  {
   "cell_type": "code",
   "execution_count": 9,
   "id": "47f92290",
   "metadata": {},
   "outputs": [],
   "source": [
    "from nltk.tokenize import sent_tokenize\n"
   ]
  },
  {
   "cell_type": "code",
   "execution_count": 10,
   "id": "a55818c2",
   "metadata": {},
   "outputs": [],
   "source": [
    "\n",
    "chess2 = \"Samay Raina is the best chess streamer in the world. Sagar Shah is the best chess coach in the world\"\n"
   ]
  },
  {
   "cell_type": "code",
   "execution_count": 11,
   "id": "fc81d0f6",
   "metadata": {},
   "outputs": [
    {
     "data": {
      "text/plain": [
       "['Samay Raina is the best chess streamer in the world.',\n",
       " 'Sagar Shah is the best chess coach in the world']"
      ]
     },
     "execution_count": 11,
     "metadata": {},
     "output_type": "execute_result"
    }
   ],
   "source": [
    "sent_tokenize(chess2)"
   ]
  },
  {
   "cell_type": "code",
   "execution_count": 12,
   "id": "57ca9498",
   "metadata": {},
   "outputs": [
    {
     "data": {
      "text/plain": [
       "9"
      ]
     },
     "execution_count": 12,
     "metadata": {},
     "output_type": "execute_result"
    }
   ],
   "source": [
    "len(word_tokenize(chess))"
   ]
  },
  {
   "cell_type": "code",
   "execution_count": 13,
   "id": "6c63f67e",
   "metadata": {},
   "outputs": [],
   "source": [
    "astronaut = \"can anybody hear me or am i talking to myself? my mind is running empty in the search of some else\"\n"
   ]
  },
  {
   "cell_type": "code",
   "execution_count": 14,
   "id": "7026b38d",
   "metadata": {},
   "outputs": [],
   "source": [
    "astronaut = \"can anybody hear me or am i talking to myself? my mind is running empty in the serch for some else\""
   ]
  },
  {
   "cell_type": "code",
   "execution_count": 16,
   "id": "fd6d3ff1",
   "metadata": {},
   "outputs": [],
   "source": [
    "astronaut_token=(word_tokenize(astronaut))"
   ]
  },
  {
   "cell_type": "code",
   "execution_count": 17,
   "id": "e37b8fc8",
   "metadata": {},
   "outputs": [
    {
     "data": {
      "text/plain": [
       "['can',\n",
       " 'anybody',\n",
       " 'hear',\n",
       " 'me',\n",
       " 'or',\n",
       " 'am',\n",
       " 'i',\n",
       " 'talking',\n",
       " 'to',\n",
       " 'myself',\n",
       " '?',\n",
       " 'my',\n",
       " 'mind',\n",
       " 'is',\n",
       " 'running',\n",
       " 'empty',\n",
       " 'in',\n",
       " 'the',\n",
       " 'serch',\n",
       " 'for',\n",
       " 'some',\n",
       " 'else']"
      ]
     },
     "execution_count": 17,
     "metadata": {},
     "output_type": "execute_result"
    }
   ],
   "source": [
    "astronaut_token"
   ]
  },
  {
   "cell_type": "code",
   "execution_count": 18,
   "id": "1bca8189",
   "metadata": {},
   "outputs": [
    {
     "data": {
      "text/plain": [
       "[('can', 'anybody'),\n",
       " ('anybody', 'hear'),\n",
       " ('hear', 'me'),\n",
       " ('me', 'or'),\n",
       " ('or', 'am'),\n",
       " ('am', 'i'),\n",
       " ('i', 'talking'),\n",
       " ('talking', 'to'),\n",
       " ('to', 'myself'),\n",
       " ('myself', '?'),\n",
       " ('?', 'my'),\n",
       " ('my', 'mind'),\n",
       " ('mind', 'is'),\n",
       " ('is', 'running'),\n",
       " ('running', 'empty'),\n",
       " ('empty', 'in'),\n",
       " ('in', 'the'),\n",
       " ('the', 'serch'),\n",
       " ('serch', 'for'),\n",
       " ('for', 'some'),\n",
       " ('some', 'else')]"
      ]
     },
     "execution_count": 18,
     "metadata": {},
     "output_type": "execute_result"
    }
   ],
   "source": [
    "list(nltk.bigrams(astronaut_token))"
   ]
  },
  {
   "cell_type": "code",
   "execution_count": 19,
   "id": "22ce2093",
   "metadata": {},
   "outputs": [
    {
     "data": {
      "text/plain": [
       "[('can', 'anybody', 'hear'),\n",
       " ('anybody', 'hear', 'me'),\n",
       " ('hear', 'me', 'or'),\n",
       " ('me', 'or', 'am'),\n",
       " ('or', 'am', 'i'),\n",
       " ('am', 'i', 'talking'),\n",
       " ('i', 'talking', 'to'),\n",
       " ('talking', 'to', 'myself'),\n",
       " ('to', 'myself', '?'),\n",
       " ('myself', '?', 'my'),\n",
       " ('?', 'my', 'mind'),\n",
       " ('my', 'mind', 'is'),\n",
       " ('mind', 'is', 'running'),\n",
       " ('is', 'running', 'empty'),\n",
       " ('running', 'empty', 'in'),\n",
       " ('empty', 'in', 'the'),\n",
       " ('in', 'the', 'serch'),\n",
       " ('the', 'serch', 'for'),\n",
       " ('serch', 'for', 'some'),\n",
       " ('for', 'some', 'else')]"
      ]
     },
     "execution_count": 19,
     "metadata": {},
     "output_type": "execute_result"
    }
   ],
   "source": [
    "list(nltk.trigrams(astronaut_token))"
   ]
  },
  {
   "cell_type": "code",
   "execution_count": 20,
   "id": "d1777994",
   "metadata": {},
   "outputs": [
    {
     "data": {
      "text/plain": [
       "[('can', 'anybody', 'hear', 'me', 'or'),\n",
       " ('anybody', 'hear', 'me', 'or', 'am'),\n",
       " ('hear', 'me', 'or', 'am', 'i'),\n",
       " ('me', 'or', 'am', 'i', 'talking'),\n",
       " ('or', 'am', 'i', 'talking', 'to'),\n",
       " ('am', 'i', 'talking', 'to', 'myself'),\n",
       " ('i', 'talking', 'to', 'myself', '?'),\n",
       " ('talking', 'to', 'myself', '?', 'my'),\n",
       " ('to', 'myself', '?', 'my', 'mind'),\n",
       " ('myself', '?', 'my', 'mind', 'is'),\n",
       " ('?', 'my', 'mind', 'is', 'running'),\n",
       " ('my', 'mind', 'is', 'running', 'empty'),\n",
       " ('mind', 'is', 'running', 'empty', 'in'),\n",
       " ('is', 'running', 'empty', 'in', 'the'),\n",
       " ('running', 'empty', 'in', 'the', 'serch'),\n",
       " ('empty', 'in', 'the', 'serch', 'for'),\n",
       " ('in', 'the', 'serch', 'for', 'some'),\n",
       " ('the', 'serch', 'for', 'some', 'else')]"
      ]
     },
     "execution_count": 20,
     "metadata": {},
     "output_type": "execute_result"
    }
   ],
   "source": [
    "list(nltk.ngrams(astronaut_token,5))"
   ]
  },
  {
   "cell_type": "code",
   "execution_count": 21,
   "id": "69a3a7b5",
   "metadata": {},
   "outputs": [],
   "source": [
    "from nltk.stem import PorterStemmer"
   ]
  },
  {
   "cell_type": "code",
   "execution_count": 22,
   "id": "0e90c329",
   "metadata": {},
   "outputs": [
    {
     "data": {
      "text/plain": [
       "'shop'"
      ]
     },
     "execution_count": 22,
     "metadata": {},
     "output_type": "execute_result"
    }
   ],
   "source": [
    "my_stem = PorterStemmer()\n",
    "my_stem.stem(\"eating\")\n",
    "my_stem.stem(\"going\")\n",
    "my_stem.stem(\"shopping\")"
   ]
  },
  {
   "cell_type": "code",
   "execution_count": 23,
   "id": "60344618",
   "metadata": {},
   "outputs": [],
   "source": [
    "tom = \"Tom Hanks is the best actor in the world\""
   ]
  },
  {
   "cell_type": "code",
   "execution_count": 24,
   "id": "8a7b0de6",
   "metadata": {},
   "outputs": [
    {
     "data": {
      "text/plain": [
       "'Tom Hanks is the best actor in the world'"
      ]
     },
     "execution_count": 24,
     "metadata": {},
     "output_type": "execute_result"
    }
   ],
   "source": [
    "tom"
   ]
  },
  {
   "cell_type": "code",
   "execution_count": 25,
   "id": "0524c54a",
   "metadata": {},
   "outputs": [],
   "source": [
    "tom_token = word_tokenize(tom)"
   ]
  },
  {
   "cell_type": "code",
   "execution_count": 26,
   "id": "b8059e5a",
   "metadata": {},
   "outputs": [
    {
     "data": {
      "text/plain": [
       "[('Tom', 'NNP'),\n",
       " ('Hanks', 'NNP'),\n",
       " ('is', 'VBZ'),\n",
       " ('the', 'DT'),\n",
       " ('best', 'JJS'),\n",
       " ('actor', 'NN'),\n",
       " ('in', 'IN'),\n",
       " ('the', 'DT'),\n",
       " ('world', 'NN')]"
      ]
     },
     "execution_count": 26,
     "metadata": {},
     "output_type": "execute_result"
    }
   ],
   "source": [
    " nltk.pos_tag(tom_token)"
   ]
  },
  {
   "cell_type": "code",
   "execution_count": 27,
   "id": "eeb0e91b",
   "metadata": {},
   "outputs": [],
   "source": [
    "from nltk import ne_chunk"
   ]
  },
  {
   "cell_type": "code",
   "execution_count": 28,
   "id": "085a6ce1",
   "metadata": {},
   "outputs": [],
   "source": [
    "primeminister = \"Narendra Modi is the 18 prime minister of india\""
   ]
  },
  {
   "cell_type": "code",
   "execution_count": 29,
   "id": "8ae992e3",
   "metadata": {},
   "outputs": [],
   "source": [
    "primeminister_token = word_tokenize(primeminister)"
   ]
  },
  {
   "cell_type": "code",
   "execution_count": 30,
   "id": "edd21f63",
   "metadata": {},
   "outputs": [],
   "source": [
    "primeminister_pos = nltk.pos_tag(primeminister_token)"
   ]
  },
  {
   "cell_type": "code",
   "execution_count": 31,
   "id": "188753e7",
   "metadata": {},
   "outputs": [
    {
     "name": "stdout",
     "output_type": "stream",
     "text": [
      "(S\n",
      "  (PERSON Narendra/NNP)\n",
      "  (ORGANIZATION Modi/NNP)\n",
      "  is/VBZ\n",
      "  the/DT\n",
      "  18/CD\n",
      "  prime/JJ\n",
      "  minister/NN\n",
      "  of/IN\n",
      "  india/NN)\n"
     ]
    }
   ],
   "source": [
    "print(ne_chunk(primeminister_pos))"
   ]
  },
  {
   "cell_type": "code",
   "execution_count": 32,
   "id": "237300e2",
   "metadata": {},
   "outputs": [
    {
     "name": "stdout",
     "output_type": "stream",
     "text": [
      "Defaulting to user installation because normal site-packages is not writeable\n",
      "Collecting gTTS\n",
      "  Downloading gTTS-2.3.2-py3-none-any.whl (28 kB)\n",
      "Requirement already satisfied: requests<3,>=2.27 in c:\\programdata\\anaconda3\\lib\\site-packages (from gTTS) (2.28.1)\n",
      "Requirement already satisfied: click<8.2,>=7.1 in c:\\programdata\\anaconda3\\lib\\site-packages (from gTTS) (8.0.4)\n",
      "Requirement already satisfied: colorama in c:\\programdata\\anaconda3\\lib\\site-packages (from click<8.2,>=7.1->gTTS) (0.4.6)\n",
      "Requirement already satisfied: charset-normalizer<3,>=2 in c:\\programdata\\anaconda3\\lib\\site-packages (from requests<3,>=2.27->gTTS) (2.0.4)\n",
      "Requirement already satisfied: idna<4,>=2.5 in c:\\programdata\\anaconda3\\lib\\site-packages (from requests<3,>=2.27->gTTS) (3.4)\n",
      "Requirement already satisfied: urllib3<1.27,>=1.21.1 in c:\\programdata\\anaconda3\\lib\\site-packages (from requests<3,>=2.27->gTTS) (1.26.14)\n",
      "Requirement already satisfied: certifi>=2017.4.17 in c:\\programdata\\anaconda3\\lib\\site-packages (from requests<3,>=2.27->gTTS) (2023.5.7)\n",
      "Installing collected packages: gTTS\n",
      "Successfully installed gTTS-2.3.2\n",
      "Note: you may need to restart the kernel to use updated packages.\n"
     ]
    },
    {
     "name": "stderr",
     "output_type": "stream",
     "text": [
      "  WARNING: The script gtts-cli.exe is installed in 'C:\\Users\\karis\\AppData\\Roaming\\Python\\Python310\\Scripts' which is not on PATH.\n",
      "  Consider adding this directory to PATH or, if you prefer to suppress this warning, use --no-warn-script-location.\n"
     ]
    }
   ],
   "source": [
    "pip install gTTS"
   ]
  },
  {
   "cell_type": "code",
   "execution_count": 33,
   "id": "00fd86f2",
   "metadata": {},
   "outputs": [
    {
     "data": {
      "text/html": [
       "\n",
       "                <audio  controls=\"controls\" autoplay=\"autoplay\">\n",
       "                    <source src=\"data:audio/wav;base64,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\" type=\"audio/wav\" />\n",
       "                    Your browser does not support the audio element.\n",
       "                </audio>\n",
       "              "
      ],
      "text/plain": [
       "<IPython.lib.display.Audio object>"
      ]
     },
     "execution_count": 33,
     "metadata": {},
     "output_type": "execute_result"
    }
   ],
   "source": [
    "from gtts import gTTS\n",
    "from IPython.display import Audio\n",
    "tts = gTTS(\"karisma is a talented person\")\n",
    "tts.save(\"1.wav\")\n",
    "sound_file = \"1.wav\"\n",
    "Audio(sound_file, autoplay=True)\n"
   ]
  },
  {
   "cell_type": "code",
   "execution_count": null,
   "id": "1189549a",
   "metadata": {},
   "outputs": [],
   "source": []
  }
 ],
 "metadata": {
  "kernelspec": {
   "display_name": "Python 3 (ipykernel)",
   "language": "python",
   "name": "python3"
  },
  "language_info": {
   "codemirror_mode": {
    "name": "ipython",
    "version": 3
   },
   "file_extension": ".py",
   "mimetype": "text/x-python",
   "name": "python",
   "nbconvert_exporter": "python",
   "pygments_lexer": "ipython3",
   "version": "3.10.9"
  }
 },
 "nbformat": 4,
 "nbformat_minor": 5
}
